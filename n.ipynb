{
 "cells": [
  {
   "cell_type": "code",
   "execution_count": null,
   "metadata": {},
   "outputs": [],
   "source": [
    "import datetime\n",
    "import whisper\n",
    "import json\n",
    "filename = \"example\"\n",
    "model = whisper.load_model(\"base\")\n",
    "result = model.transcribe(\"f{filename}.mp3\")\n",
    "print(result)\n",
    "with open(\"{}.txt\".format(filename), \"w\") as f:\n",
    "  f.write(result[\"text\"])\n",
    "\n",
    "with open(\"{}.json\".format(filename), \"w\", encoding=\"utf-8\") as f:\n",
    "  json.dump(result, f, ensure_ascii=False)\n",
    "withTime = {}\n",
    "\n",
    "for segment in result[\"segments\"]:\n",
    "   withTime[str(datetime.timedelta(seconds=segment[\"start\"])).split(\".\")[0]] = segment[\"text\"]\n",
    "\n",
    "with open(\"{}.json\".format(\"withTime\"), \"w\", encoding=\"utf-8\") as f:\n",
    "  json.dump(withTime, f, ensure_ascii=False)"
   ]
  }
 ],
 "metadata": {
  "language_info": {
   "name": "python"
  },
  "orig_nbformat": 4
 },
 "nbformat": 4,
 "nbformat_minor": 2
}
